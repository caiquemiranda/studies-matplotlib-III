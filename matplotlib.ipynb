{
 "cells": [
  {
   "cell_type": "code",
   "execution_count": null,
   "metadata": {},
   "outputs": [],
   "source": [
    "import numpy as np\n",
    "import pandas as pd\n",
    "import matplotlib as mpl\n",
    "import matplotlib.pyplot as plt\n",
    "%matplotlib inline"
   ]
  },
  {
   "cell_type": "code",
   "execution_count": null,
   "metadata": {},
   "outputs": [],
   "source": [
    "#Graph Styling\n",
    "# https://tonysyu.github.io/raw_content/matplotlib-style-gallery/gallery.html\n",
    "plt.style.use('seaborn-darkgrid')"
   ]
  },
  {
   "attachments": {},
   "cell_type": "markdown",
   "metadata": {},
   "source": [
    "Line Graphs"
   ]
  },
  {
   "cell_type": "code",
   "execution_count": null,
   "metadata": {},
   "outputs": [],
   "source": [
    "# By default Plot() function will draw a line chart.\n",
    "x = np.array([1,2,3,4,5,6])\n",
    "y = np.power(x,3)\n",
    "plt.plot(x,y)\n",
    "plt.show()"
   ]
  },
  {
   "cell_type": "code",
   "execution_count": null,
   "metadata": {},
   "outputs": [],
   "source": [
    "x = np.linspace(0, 10, 1000)\n",
    "y = np.sin(x) # Sine Graph\n",
    "plt.plot(x,y)\n",
    "plt.show()"
   ]
  },
  {
   "cell_type": "code",
   "execution_count": null,
   "metadata": {},
   "outputs": [],
   "source": [
    "# Recover default matplotlib settings\n",
    "mpl.rcParams.update(mpl.rcParamsDefault)"
   ]
  },
  {
   "cell_type": "code",
   "execution_count": null,
   "metadata": {},
   "outputs": [],
   "source": [
    "x = np.linspace(0, 10, 1000)\n",
    "y = np.sin(x) # Sine Graph\n",
    "plt.plot(x,y)\n",
    "plt.show()"
   ]
  },
  {
   "cell_type": "code",
   "execution_count": null,
   "metadata": {},
   "outputs": [],
   "source": [
    "plt.style.use('seaborn-darkgrid')\n",
    "%matplotlib inline"
   ]
  },
  {
   "cell_type": "code",
   "execution_count": null,
   "metadata": {},
   "outputs": [],
   "source": [
    "plt.figure(figsize=(10,5))\n",
    "x = np.linspace(0, 10, 1000)\n",
    "y = np.sin(x) # Sine Graph\n",
    "plt.plot(x,y)\n",
    "plt.show()"
   ]
  },
  {
   "cell_type": "code",
   "execution_count": null,
   "metadata": {},
   "outputs": [],
   "source": [
    "# Solid blue line will be plotted using the argument \"b-\"\n",
    "plt.figure(figsize=(10,5))\n",
    "x = np.linspace(0, 10, 1000)\n",
    "y = np.sin(x) # Sine Graph\n",
    "plt.plot(x,y,'b-')\n",
    "plt.xlabel(\"X - Axis\")\n",
    "plt.ylabel(\"Y - Axis\")\n",
    "plt.show()"
   ]
  },
  {
   "cell_type": "code",
   "execution_count": null,
   "metadata": {},
   "outputs": [],
   "source": [
    "# Solid red line will be plotted using the argument \"r-\"\n",
    "plt.figure(figsize=(10,5))\n",
    "x = np.linspace(0, 10, 1000)\n",
    "y = np.sin(x) # Sine Graph\n",
    "plt.plot(x,y,'r-')\n",
    "plt.xlabel(\"X - Axis\")\n",
    "plt.ylabel(\"Y - Axis\")\n",
    "plt.show()"
   ]
  },
  {
   "cell_type": "code",
   "execution_count": null,
   "metadata": {},
   "outputs": [],
   "source": [
    "# Plot green dots using the argument \"go\"\n",
    "plt.figure(figsize=(10,5))\n",
    "x = np.linspace(0, 10, 40)\n",
    "y = np.sin(x) # Sine Graph\n",
    "plt.plot(x,y,'go')\n",
    "plt.xlabel(\"X - Axis\")\n",
    "plt.ylabel(\"Y - Axis\")\n",
    "plt.show()"
   ]
  },
  {
   "cell_type": "code",
   "execution_count": null,
   "metadata": {},
   "outputs": [],
   "source": [
    "# Plotting red dots using the argument \"ro\"\n",
    "plt.figure(figsize=(10,5))\n",
    "x = np.linspace(0, 10, 40)\n",
    "y = np.sin(x) # Sine Graph\n",
    "plt.plot(x,y,'ro')\n",
    "plt.xlabel(\"X - Axis\")\n",
    "plt.ylabel(\"Y - Axis\")\n",
    "plt.show()"
   ]
  },
  {
   "cell_type": "code",
   "execution_count": null,
   "metadata": {},
   "outputs": [],
   "source": [
    "# Plotting traingular dots using the argument \"rv\"\n",
    "plt.figure(figsize=(10,5))\n",
    "x = np.linspace(0, 10, 40)\n",
    "y = np.sin(x) # Sine Graph\n",
    "plt.plot(x,y,'rv')\n",
    "plt.xlabel(\"X - Axis\")\n",
    "plt.ylabel(\"Y - Axis\")\n",
    "plt.show()"
   ]
  },
  {
   "cell_type": "code",
   "execution_count": null,
   "metadata": {},
   "outputs": [],
   "source": [
    "# Plotting traingular dots using the argument \"r^\"\n",
    "plt.figure(figsize=(10,5))\n",
    "x = np.linspace(0, 10, 40)\n",
    "y = np.sin(x) # Sine Graph\n",
    "plt.plot(x,y,'r^')\n",
    "plt.xlabel(\"X - Axis\")\n",
    "plt.ylabel(\"Y - Axis\")\n",
    "plt.show()"
   ]
  },
  {
   "cell_type": "code",
   "execution_count": null,
   "metadata": {},
   "outputs": [],
   "source": [
    "#Plotting multiple sets of data\n",
    "plt.figure(figsize=(10,5))\n",
    "x = np.array([1,2,3,4,5,6])\n",
    "y1 = np.power(x,2)\n",
    "y2 = np.power(x,3)\n",
    "plt.plot(x,y1, \"b-\" , label = '$y1 = x^2$') # Setting up legends\n",
    "plt.plot(x,y2, \"r-\" ,label ='$y2 = x^3$') # Setting up legends\n",
    "plt.xlabel(\"X - Axis\")\n",
    "plt.ylabel(\"Y - Axis\")\n",
    "plt.legend()\n",
    "plt.tight_layout()\n",
    "plt.show()"
   ]
  },
  {
   "cell_type": "code",
   "execution_count": null,
   "metadata": {},
   "outputs": [],
   "source": [
    "#Plotting multiple sets of data\n",
    "x = np.linspace(0, 10, 2000)\n",
    "plt.figure(figsize=(10,6))\n",
    "plt.plot(x,np.sin(x) , label = '$Sin(X)$')\n",
    "plt.plot(x,np.cos(x) , label = '$cos(X)$')\n",
    "plt.xlabel(r'$X$' , fontsize = 18)\n",
    "plt.ylabel(r'$Y$' , fontsize = 18)\n",
    "plt.title(\"$Sin(x) $ $ & $ $ Cos(x)$\" ,fontsize = 14)\n",
    "plt.legend(loc = 'upper right') # Legend will be placed at upper right position\n",
    "plt.show()"
   ]
  },
  {
   "cell_type": "code",
   "execution_count": null,
   "metadata": {},
   "outputs": [],
   "source": [
    "#Changing the line style\n",
    "plt.figure(figsize=(10,5))\n",
    "x = np.array([1,2,3,4,5,6])\n",
    "y1 = np.power(x,2)\n",
    "y2 = np.power(x,3)\n",
    "plt.plot(x,y1, \"b-\" , label = '$y1 = x^2$') # Setting up legends\n",
    "plt.plot(x, y2,color='red',linewidth=1.0,linestyle='--') # Setting up legends\n",
    "plt.xlabel(\"X - Axis\")\n",
    "plt.ylabel(\"Y - Axis\")\n",
    "plt.legend(loc='upper center', fontsize='large')\n",
    "plt.show()"
   ]
  },
  {
   "cell_type": "code",
   "execution_count": null,
   "metadata": {},
   "outputs": [],
   "source": [
    "# Line Styling\n",
    "x = np.linspace(0, 10, 2000)\n",
    "plt.figure(figsize=(16, 9))\n",
    "plt.plot(x,np.sin(x) , label = '$Sin(X) $ $ Dashed $' , linestyle='dashed')\n",
    "plt.plot(x+1,np.sin(x) , label = '$Sin(X) $ $ Dashdot $' , linestyle='dashdot')\n",
    "plt.plot(x,np.cos(x) , label = '$cos(X) $ $ Solid $' , linestyle='solid')\n",
    "plt.plot(x+1,np.cos(x) , label = '$cos(X)$ $ Dotted $' , linestyle='dotted')\n",
    "plt.xlabel(r'$X$' , fontsize = 18)\n",
    "plt.ylabel(r'$Y$' , fontsize = 18)\n",
    "plt.title(\"$Sin(x) $ $ & $ $ Cos(x)$\" ,fontsize = 14)\n",
    "plt.legend(loc = 'upper right' , fontsize = 14 , bbox_to_anchor=(1.2, 1.0)) # Legend will b\n",
    "plt.show()"
   ]
  },
  {
   "cell_type": "code",
   "execution_count": null,
   "metadata": {},
   "outputs": [],
   "source": [
    "# Line Styling\n",
    "x = np.linspace(0, 10, 2000)\n",
    "plt.figure(figsize=(16, 9))\n",
    "plt.plot(x,np.sin(x) , label = '$Sin(X) $ $ Dashed $' , linestyle='--')\n",
    "plt.plot(x+1,np.sin(x) , label = '$Sin(X) $ $ Dashdot $' , linestyle='-.')\n",
    "plt.plot(x,np.cos(x) , label = '$cos(X) $ $ Solid $' , linestyle='-')\n",
    "plt.plot(x+1,np.cos(x) , label = '$cos(X)$ $ Dotted $' , linestyle=':')\n",
    "plt.xlabel(r'$X$' , fontsize = 18)\n",
    "plt.ylabel(r'$Y$' , fontsize = 18)\n",
    "plt.title(\"$Sin(x) $ $ & $ $ Cos(x)$\" ,fontsize = 14)\n",
    "plt.legend(loc = 'upper right' , fontsize = 14 , bbox_to_anchor=(1.2, 1.0))\n",
    "plt.show()"
   ]
  },
  {
   "cell_type": "code",
   "execution_count": null,
   "metadata": {},
   "outputs": [],
   "source": [
    "# Shading Regions with fill_between() function\n",
    "x = np.linspace(0, 10, 2000)\n",
    "plt.figure(figsize=(10,6))\n",
    "plt.plot(x,np.sin(x) , label = '$Sin(X)$')\n",
    "plt.plot(x,np.cos(x) , label = '$cos(X)$')\n",
    "plt.fill_between(x,0,np.sin(x))\n",
    "plt.fill_between(x,0,np.cos(x))\n",
    "plt.xlabel(r'$X$' , fontsize = 18)\n",
    "plt.ylabel(r'$Y$' , fontsize = 18)\n",
    "plt.title(\"$Sin(x) $ $ & $ $ Cos(x)$\" ,fontsize = 14)\n",
    "plt.legend(loc = 'lower left') # Legend will be placed at lower left position\n",
    "plt.show()"
   ]
  },
  {
   "cell_type": "code",
   "execution_count": null,
   "metadata": {},
   "outputs": [],
   "source": [
    "#Changing Legend position & font\n",
    "x = np.array([1,2,3,4,5,6])\n",
    "y1 = np.power(x,2)\n",
    "y2 = np.power(x,3)\n",
    "plt.plot(x,y1, \"b-\" , label = '$y1 = x^2$') # Setting up legends\n",
    "plt.plot(x,y2, \"r-\" ,label ='$y2 = x^3$') # Setting up legends\n",
    "plt.xlabel(\"X - Axis\")\n",
    "plt.ylabel(\"Y - Axis\")\n",
    "plt.legend(loc='upper center', fontsize='large')\n",
    "plt.show()"
   ]
  },
  {
   "cell_type": "code",
   "execution_count": null,
   "metadata": {},
   "outputs": [],
   "source": [
    "# Changing line width\n",
    "plt.figure(figsize=(10,6))\n",
    "x= [1,2,3,4,5,6,7,8,9]\n",
    "y= [7,8,9,10,7,11,12,13,14]\n",
    "y2 = [7,7,7,7,7,7,7,7,7]\n",
    "plt.plot(x , y, linewidth = 4 ,label = 'Line -1') # Changing line width\n",
    "plt.plot(x , y2, linewidth = 3,label = 'Line - 2')\n",
    "plt.xlabel('X Axis Label')\n",
    "plt.ylabel('Y Axis Label')\n",
    "plt.title ('Line Graph')\n",
    "plt.legend()\n",
    "plt.show()"
   ]
  },
  {
   "cell_type": "code",
   "execution_count": null,
   "metadata": {},
   "outputs": [],
   "source": [
    "# Plot with Grid Lines\n",
    "plt.figure(figsize=(10,6))\n",
    "x= [1,2,3,4,5,6,7,8,9]\n",
    "y= [7,8,9,10,7,11,12,13,14]\n",
    "y2 = [7,7,7,7,7,7,7,7,7]\n",
    "plt.plot(x , y, linewidth = 4 ,label = 'Line -1') # Changing line width\n",
    "plt.plot(x , y2, linewidth = 3,label = 'Line - 2')\n",
    "plt.xlabel('X Axis Label')\n",
    "plt.ylabel('Y Axis Label')\n",
    "plt.title ('Line Graph')\n",
    "plt.legend()\n",
    "plt.grid(b=True , linestyle = '-' , which = 'major' , color = 'grey') # Grid Lines\n",
    "plt.show()"
   ]
  },
  {
   "cell_type": "code",
   "execution_count": null,
   "metadata": {},
   "outputs": [],
   "source": [
    "# Setting the background color\n",
    "x = np.array([1,2,3,4,5,6])\n",
    "y1 = np.power(x,2)\n",
    "y2 = np.power(x,3)\n",
    "plt.figure(figsize=(12,5)) # Setting the figure size\n",
    "ax = plt.axes()\n",
    "ax.set_facecolor(\"darkgrey\") # Setting the background color by using Hex code\n",
    "plt.plot(x,y1,\"bo-\", x,y2, \"ro-\")\n",
    "plt.xlabel(\"X - Axis\")\n",
    "plt.ylabel(\"Y - Axis\")\n",
    "plt.show()"
   ]
  },
  {
   "cell_type": "code",
   "execution_count": null,
   "metadata": {},
   "outputs": [],
   "source": [
    "# Display multiple plots in one figure (1 row & 2 columns)\n",
    "plt.figure(figsize=(14,6))\n",
    "x = np.linspace(0, 10, 100)\n",
    "y1 = np.sin(x) # Sine Graph\n",
    "y2 = np.cos(x) # cosine graph\n",
    "plt.subplot(1,2,1)\n",
    "plt.plot(x,y1)\n",
    "plt.subplot(1,2,2)\n",
    "plt.plot(x,y2)\n",
    "plt.show()"
   ]
  },
  {
   "cell_type": "code",
   "execution_count": null,
   "metadata": {},
   "outputs": [],
   "source": [
    "# Display multiple plots in one figure (2 row & 1 columns)\n",
    "plt.figure(figsize=(12,6))\n",
    "x = np.linspace(0, 10, 100)\n",
    "y1 = np.sin(x) # Sine Graph\n",
    "y2 = np.cos(x) # cosine graph\n",
    "plt.subplot(2,1,1)\n",
    "plt.plot(x,y1, \"b-\")\n",
    "plt.subplot(2,1,2)\n",
    "plt.plot(x,y2, \"r-\")\n",
    "plt.tight_layout()\n",
    "plt.show()"
   ]
  },
  {
   "cell_type": "code",
   "execution_count": null,
   "metadata": {},
   "outputs": [],
   "source": [
    "# # Display multiple plots in one figure using subplots()\n",
    "x = np.arange(-50,50)\n",
    "y1 = np.power(x,2)\n",
    "y2 = np.power(x,3)\n",
    "y3 = np.sin(x)\n",
    "y4 = np.cos(x)\n",
    "y5 = np.tan(x)\n",
    "y6 = np.tanh(x)\n",
    "y7 = np.sinh(x)\n",
    "y8 = np.cosh(x)\n",
    "y9 = np.exp(x)\n",
    "fig1 , ax1 = plt.subplots(nrows=3,ncols=3 , figsize = (20,20)) # Create a figure and subplo\n",
    "ax1[0,0].plot(x,y1,\"tab:blue\") # set the color of the line chart\n",
    "ax1[0,0].set_title(\"Square Function\") # setting title of subplot\n",
    "ax1[0,0].set_xlabel(r'$X$' , fontsize = 18) #Set the label for the x-axis\n",
    "ax1[0,0].set_ylabel(r'$Y$' , fontsize = 18) #Set the label for the y-axis\n",
    "ax1[0,1].plot(x,y2,\"tab:orange\")\n",
    "ax1[0,1].set_title(\"Cubic Function\")\n",
    "ax1[0,1].set_xlabel(r'$X$' , fontsize = 18)\n",
    "ax1[0,1].set_ylabel(r'$Y$' , fontsize = 18)\n",
    "ax1[0,2].plot(x,y3,\"tab:green\")\n",
    "ax1[0,2].set_title(\"Sine Function\")\n",
    "ax1[0,2].set_xlabel(r'$X$' , fontsize = 18)\n",
    "ax1[0,2].set_ylabel(r'$Y$' , fontsize = 18)\n",
    "ax1[1,0].plot(x,y4,\"b-\")\n",
    "ax1[1,0].set_title(\"Cosine Function\")\n",
    "ax1[1,0].set_xlabel(r'$X$' , fontsize = 18)\n",
    "ax1[1,0].set_ylabel(r'$Y$' , fontsize = 18)\n",
    "ax1[1,1].plot(x,y5,\"r-\")\n",
    "ax1[1,1].set_title(\"Tangent Function\")\n",
    "ax1[1,1].set_xlabel(r'$X$' , fontsize = 18)\n",
    "ax1[1,1].set_ylabel(r'$Y$' , fontsize = 18)\n",
    "ax1[1,2].plot(x,y6,\"g-\")\n",
    "ax1[1,2].set_title(\"Hyperbolic Tangent\")\n",
    "ax1[1,2].set_xlabel(r'$X$' , fontsize = 18)\n",
    "ax1[1,2].set_ylabel(r'$Y$' , fontsize = 18)\n",
    "ax1[2,0].plot(x,y7,\"m-\")\n",
    "ax1[2,0].set_title(\"Hyperbolic Sine\")\n",
    "ax1[2,0].set_xlabel(r'$X$' , fontsize = 18)\n",
    "ax1[2,0].set_ylabel(r'$Y$' , fontsize = 18)\n",
    "ax1[2,1].plot(x,y8,\"y-\")\n",
    "ax1[2,1].set_title(\"Hyperbolic Cosine\")\n",
    "ax1[2,1].set_xlabel(r'$X$' , fontsize = 18)\n",
    "ax1[2,1].set_ylabel(r'$Y$' , fontsize = 18)\n",
    "ax1[2,2].plot(x,y9,\"k-\")\n",
    "ax1[2,2].set_title(\"Exponential Function\")\n",
    "ax1[2,2].set_xlabel(r'$X$' , fontsize = 18)\n",
    "ax1[2,2].set_ylabel(r'$Y$' , fontsize = 18)\n",
    "plt.show()"
   ]
  },
  {
   "cell_type": "code",
   "execution_count": null,
   "metadata": {},
   "outputs": [],
   "source": [
    "y = [[1,2,3,4,5] , [10,20,30,40,50],[60,70,80,90,100] ]\n",
    "cnt =0\n",
    "plt.figure(figsize=(10,6))\n",
    "for i in y:\n",
    "    x1 = [10,20,30,40,50]\n",
    "    cnt +=1\n",
    "    print ('iteration Number :- {}'.format(cnt))\n",
    "    print ('X1 Value :- {}'.format(x1))\n",
    "    print('Y value (i) :- {}'.format(i))\n",
    "    plt.plot(x1,i)\n",
    "\n",
    "plt.show()"
   ]
  },
  {
   "attachments": {},
   "cell_type": "markdown",
   "metadata": {},
   "source": [
    "Bar Graphs"
   ]
  },
  {
   "cell_type": "code",
   "execution_count": null,
   "metadata": {},
   "outputs": [],
   "source": [
    "id1 = np.arange(1,10)\n",
    "score = np.arange(20,110,10)\n",
    "plt.bar(id1,score)\n",
    "plt.xlabel('Student ID')\n",
    "plt.ylabel('Score')\n",
    "plt.show()"
   ]
  },
  {
   "cell_type": "code",
   "execution_count": null,
   "metadata": {},
   "outputs": [],
   "source": [
    "id1 = np.arange(1,10)\n",
    "score = np.arange(20,110,10)\n",
    "plt.figure(figsize=(8,5)) # Setting the figure size\n",
    "ax = plt.axes()\n",
    "ax.set_facecolor(\"#ECF0F1\") # Setting the background color by specifying the HEX Code\n",
    "plt.bar(id1,score,color = '#FFA726')\n",
    "plt.xlabel(r'$Student $ $ ID$')\n",
    "plt.ylabel(r'$Score$')\n",
    "plt.show()"
   ]
  },
  {
   "cell_type": "code",
   "execution_count": null,
   "metadata": {},
   "outputs": [],
   "source": [
    "#Plotting multiple sets of data\n",
    "x1= [1,3,5,7]\n",
    "x2=[2,4,6,8]\n",
    "y1 = [7,7,7,7]\n",
    "y2= [17,18,29,40]\n",
    "plt.figure(figsize=(8,6))\n",
    "ax = plt.axes()\n",
    "ax.set_facecolor(\"white\")\n",
    "plt.bar(x1,y1,label = \"First\",color = '#42B300') # First set of data\n",
    "plt.bar(x2,y2,label = \"Second\",color = '#94E413') # Second set of data\n",
    "plt.xlabel('$X$')\n",
    "plt.ylabel('$Y$')\n",
    "plt.title ('$Bar $ $ Chart$')\n",
    "plt.legend()\n",
    "plt.show()"
   ]
  },
  {
   "cell_type": "code",
   "execution_count": null,
   "metadata": {},
   "outputs": [],
   "source": [
    "# Horizontal Bar Chart\n",
    "Age = [28,33,43,45,57]\n",
    "Name = [\"Asif\", \"Steve\", 'John', \"Ravi\", \"Basit\"]\n",
    "plt.barh(Name,Age, color =\"yellowgreen\")\n",
    "plt.show()"
   ]
  },
  {
   "cell_type": "code",
   "execution_count": null,
   "metadata": {},
   "outputs": [],
   "source": [
    "# Changing the width of Bars\n",
    "num1 = np.array([1,3,5,7,9])\n",
    "num2 = np.array([2,4,6,8,10])\n",
    "plt.figure(figsize=(8,4))\n",
    "plt.bar(num1, num1**2, width=0.2 , color = '#FF6F00')\n",
    "plt.bar(num2, num2**2, width=0.2 , color = '#FFB300')\n",
    "plt.plot()"
   ]
  },
  {
   "cell_type": "code",
   "execution_count": null,
   "metadata": {},
   "outputs": [],
   "source": [
    "# Displaying values at the top of vertical bars\n",
    "num1 = np.array([1,3,5,7,9])\n",
    "num2 = np.array([2,4,6,8,10])\n",
    "plt.figure(figsize=(10,6))\n",
    "plt.bar(num1, num1**2, width=0.3 , color = '#FF6F00')\n",
    "plt.bar(num2, num2**2, width=0.3 , color = '#FFB300')\n",
    "\n",
    "for x,y in zip(num1,num1**2):\n",
    "    plt.text(x, y+0.05, '%d' % y, ha='center' , va= 'bottom')\n",
    "\n",
    "for x,y in zip(num2,num2**2):\n",
    "    plt.text(x, y+0.05, '%d' % y, ha='center' , va= 'bottom')\n",
    "plt.plot()"
   ]
  },
  {
   "cell_type": "code",
   "execution_count": null,
   "metadata": {},
   "outputs": [],
   "source": [
    "x = np.arange(1,21)\n",
    "plt.figure(figsize=(16,8))\n",
    "y1 = np.random.uniform(0.1,0.7,20)\n",
    "y2 = np.random.uniform(0.1,0.7,20)\n",
    "plt.bar(x, +y1, facecolor='#C0CA33', edgecolor='white') #specify edgecolor by name\n",
    "plt.bar(x, -y2, facecolor='#FF9800', edgecolor='white')\n",
    "for x,y in zip(x,y1):\n",
    "    plt.text(x, y+0.05, '%.2f' % y, ha='center' , va= 'bottom', fontsize = 10)\n",
    "\n",
    "plt.xlim(0,21)\n",
    "plt.ylim(-1.25,+1.25)\n",
    "plt.show()"
   ]
  },
  {
   "attachments": {},
   "cell_type": "markdown",
   "metadata": {},
   "source": [
    "#### Stacked Vertical Bar"
   ]
  },
  {
   "cell_type": "code",
   "execution_count": null,
   "metadata": {},
   "outputs": [],
   "source": [
    "plt.style.use('seaborn-darkgrid')\n",
    "x1= ['Asif','Basit','Ravi','Minil']\n",
    "y1= [17,18,29,40]\n",
    "y2 = [20,21,22,23]\n",
    "plt.figure(figsize=(5,7))\n",
    "plt.bar(x1,y1,label = \"Open Tickets\",width = 0.5,color = '#FF6F00')\n",
    "plt.bar(x1,y2,label = \"Closed Tickets\",width = 0.5 ,bottom = y1 , color = '#FFB300')\n",
    "plt.xlabel('$X$')\n",
    "plt.ylabel('$Y$')\n",
    "plt.title ('$Bar $ $ Chart$')\n",
    "plt.legend()\n",
    "plt.show()"
   ]
  },
  {
   "cell_type": "code",
   "execution_count": null,
   "metadata": {},
   "outputs": [],
   "source": [
    "plt.style.use('seaborn-darkgrid')\n",
    "x1= ['Asif','Basit','Ravi','Minil']\n",
    "y1= np.array([17,18,29,40])\n",
    "y2 =np.array([20,21,22,23])\n",
    "y3 =np.array([5,9,11,12])\n",
    "plt.figure(figsize=(5,7))\n",
    "plt.bar(x1,y1,label = \"Open Tickets\",width = 0.5,color = '#FF6F00')\n",
    "plt.bar(x1,y2,label = \"Closed Tickets\",width = 0.5 ,bottom = y1 , color = '#FFB300')\n",
    "plt.bar(x1,y3,label = \"Cancelled Tickets\",width = 0.5 ,bottom = y1+y2 , color = '#F7DC6F')\n",
    "plt.xlabel('$X$')\n",
    "plt.ylabel('$Y$')\n",
    "plt.title ('$Bar $ $ Chart$')\n",
    "plt.legend()\n",
    "plt.show()"
   ]
  },
  {
   "attachments": {},
   "cell_type": "markdown",
   "metadata": {},
   "source": [
    "#### Grouped Bar Chart"
   ]
  },
  {
   "cell_type": "code",
   "execution_count": null,
   "metadata": {},
   "outputs": [],
   "source": [
    "# Grouped Bar Chart\n",
    "plt.figure(figsize=(7,9))\n",
    "# set width of bar\n",
    "barWidth = 0.25\n",
    "# set height of bar\n",
    "y1= np.array([17,18,29,40])\n",
    "y2 =np.array([20,21,22,23])\n",
    "y3 =np.array([5,9,11,12])\n",
    "# Set position of bar on X axis\n",
    "pos1 = np.arange(len(y1))\n",
    "pos2 = [x + barWidth for x in pos1]\n",
    "pos3 = [x + barWidth for x in pos2]\n",
    "# Make the plot\n",
    "plt.bar(pos1, y1, color='#FBC02D', width=barWidth, label='Open')\n",
    "plt.bar(pos2, y2, color='#F57F17', width=barWidth, label='Closed')\n",
    "plt.bar(pos3, y3, color='#E65100', width=barWidth, label='Cancelled')\n",
    "# Add xticks on the middle of the group bars\n",
    "plt.xlabel('Assignee', fontweight='bold')\n",
    "plt.ylabel('Number of Tickets', fontweight='bold')\n",
    "plt.xticks([i + barWidth for i in range(len(y1))], ['Asif', 'Basit', 'Ravi', 'Minil'])\n",
    "# Create legend & Show graphic\n",
    "plt.legend()\n",
    "plt.show()\n",
    "np.arange(len(y1))"
   ]
  },
  {
   "attachments": {},
   "cell_type": "markdown",
   "metadata": {},
   "source": [
    "#### Stacked Vertical Bar"
   ]
  },
  {
   "cell_type": "code",
   "execution_count": null,
   "metadata": {},
   "outputs": [],
   "source": []
  },
  {
   "cell_type": "code",
   "execution_count": null,
   "metadata": {},
   "outputs": [],
   "source": []
  },
  {
   "cell_type": "code",
   "execution_count": null,
   "metadata": {},
   "outputs": [],
   "source": []
  },
  {
   "cell_type": "code",
   "execution_count": null,
   "metadata": {},
   "outputs": [],
   "source": []
  },
  {
   "cell_type": "code",
   "execution_count": null,
   "metadata": {},
   "outputs": [],
   "source": []
  },
  {
   "cell_type": "code",
   "execution_count": null,
   "metadata": {},
   "outputs": [],
   "source": []
  }
 ],
 "metadata": {
  "language_info": {
   "name": "python"
  },
  "orig_nbformat": 4
 },
 "nbformat": 4,
 "nbformat_minor": 2
}
